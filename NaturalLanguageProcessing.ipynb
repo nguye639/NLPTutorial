{
 "cells": [
  {
   "cell_type": "markdown",
   "metadata": {},
   "source": [
    "# Import Libraries"
   ]
  },
  {
   "cell_type": "code",
   "execution_count": 87,
   "metadata": {},
   "outputs": [],
   "source": [
    "import numpy as np\n",
    "import pandas as pd\n",
    "import matplotlib.pyplot as plt\n",
    "import re\n",
    "import nltk\n",
    "import spacy\n",
    "from nltk.corpus import stopwords\n",
    "from nltk.sentiment import SentimentIntensityAnalyzer\n",
    "from nltk.util import trigrams\n",
    "from nltk.stem import WordNetLemmatizer\n",
    "from nltk.stem import PorterStemmer\n",
    "from sklearn.feature_extraction.text import TfidfVectorizer, CountVectorizer\n",
    "from sklearn.decomposition import PCA\n",
    "from sklearn.cluster import KMeans\n",
    "import ssl"
   ]
  },
  {
   "cell_type": "code",
   "execution_count": 2,
   "metadata": {},
   "outputs": [
    {
     "name": "stderr",
     "output_type": "stream",
     "text": [
      "[nltk_data] Downloading package vader_lexicon to\n",
      "[nltk_data]     /Users/lenguyen/nltk_data...\n",
      "[nltk_data]   Package vader_lexicon is already up-to-date!\n",
      "[nltk_data] Downloading package wordnet to\n",
      "[nltk_data]     /Users/lenguyen/nltk_data...\n",
      "[nltk_data]   Package wordnet is already up-to-date!\n",
      "[nltk_data] Downloading package omw-1.4 to\n",
      "[nltk_data]     /Users/lenguyen/nltk_data...\n",
      "[nltk_data]   Package omw-1.4 is already up-to-date!\n",
      "[nltk_data] Downloading package averaged_perceptron_tagger to\n",
      "[nltk_data]     /Users/lenguyen/nltk_data...\n",
      "[nltk_data]   Package averaged_perceptron_tagger is already up-to-\n",
      "[nltk_data]       date!\n"
     ]
    }
   ],
   "source": [
    "try:\n",
    "    _create_unverified_https_context = ssl._create_unverified_context\n",
    "except AttributeError:\n",
    "    pass\n",
    "else:\n",
    "    ssl._create_default_https_context = _create_unverified_https_context\n",
    "\n",
    "nltk.download('vader_lexicon')\n",
    "nltk.download(\"wordnet\")\n",
    "nltk.download('omw-1.4')\n",
    "nltk.download('averaged_perceptron_tagger')\n",
    "nlp = spacy.load(\"en_core_web_sm\")"
   ]
  },
  {
   "cell_type": "markdown",
   "metadata": {},
   "source": [
    "# Import Data\n",
    "\n",
    "Project Gutenberg: https://www.gutenberg.org/\n",
    "\n",
    "\n",
    "We load in the texts Alice in Wonderland, Moby Dick, and Romeo and Juliet"
   ]
  },
  {
   "cell_type": "code",
   "execution_count": 3,
   "metadata": {},
   "outputs": [],
   "source": [
    "aliceData = np.loadtxt('AliceInWonderland.txt', delimiter = \"\\n\",  dtype = str)\n",
    "mobyData = np.loadtxt('MobyDick.txt', delimiter = \"\\n\",  dtype = str)\n",
    "romeoData = np.loadtxt('RomeoAndJuliet.txt', delimiter = \"\\n\",  dtype = str)"
   ]
  },
  {
   "cell_type": "code",
   "execution_count": 4,
   "metadata": {},
   "outputs": [
    {
     "data": {
      "text/plain": [
       "array(['large rabbit-hole under the hedge.',\n",
       "       'In another moment down went Alice after it, never once considering how',\n",
       "       'in the world she was to get out again.',\n",
       "       'The rabbit-hole went straight on like a tunnel for some way, and then',\n",
       "       'dipped suddenly down, so suddenly that Alice had not a moment to think',\n",
       "       'about stopping herself before she found herself falling down a very',\n",
       "       'deep well.',\n",
       "       'Either the well was very deep, or she fell very slowly, for she had',\n",
       "       'plenty of time as she went down to look about her and to wonder what',\n",
       "       'was going to happen next. First, she tried to look down and make out'],\n",
       "      dtype='<U82')"
      ]
     },
     "execution_count": 4,
     "metadata": {},
     "output_type": "execute_result"
    }
   ],
   "source": [
    "#look at our data\n",
    "aliceData[55:65]"
   ]
  },
  {
   "cell_type": "markdown",
   "metadata": {},
   "source": [
    "# Clean Data"
   ]
  },
  {
   "cell_type": "markdown",
   "metadata": {},
   "source": [
    "## Tokenize\n",
    "\n",
    "First we must tokenize the data, which means we need to take it out of long string sentance format into individual words which will be our tokens"
   ]
  },
  {
   "cell_type": "code",
   "execution_count": 44,
   "metadata": {},
   "outputs": [],
   "source": [
    "tokenAlice = [re.sub(r'[^\\w]', ' ', i).strip().split(\" \") for i in aliceData]\n",
    "tokenMoby = [re.sub(r'[^\\w]', ' ', i).strip().split(\" \") for i in mobyData]\n",
    "tokenRomeo = [re.sub(r'[^\\w]', ' ', i).strip().split(\" \") for i in romeoData]"
   ]
  },
  {
   "cell_type": "markdown",
   "metadata": {},
   "source": [
    "## Stop Word Removal\n",
    "\n",
    "Next, we remove articles in our sentences, such as \"is\", \"and\", \"the\" - they will not me helpful in our analysis "
   ]
  },
  {
   "cell_type": "code",
   "execution_count": 7,
   "metadata": {},
   "outputs": [
    {
     "data": {
      "text/plain": [
       "['i',\n",
       " 'me',\n",
       " 'my',\n",
       " 'myself',\n",
       " 'we',\n",
       " 'our',\n",
       " 'ours',\n",
       " 'ourselves',\n",
       " 'you',\n",
       " \"you're\",\n",
       " \"you've\",\n",
       " \"you'll\",\n",
       " \"you'd\",\n",
       " 'your',\n",
       " 'yours',\n",
       " 'yourself',\n",
       " 'yourselves',\n",
       " 'he',\n",
       " 'him',\n",
       " 'his',\n",
       " 'himself',\n",
       " 'she',\n",
       " \"she's\",\n",
       " 'her',\n",
       " 'hers',\n",
       " 'herself',\n",
       " 'it',\n",
       " \"it's\",\n",
       " 'its',\n",
       " 'itself',\n",
       " 'they',\n",
       " 'them',\n",
       " 'their',\n",
       " 'theirs',\n",
       " 'themselves',\n",
       " 'what',\n",
       " 'which',\n",
       " 'who',\n",
       " 'whom',\n",
       " 'this',\n",
       " 'that',\n",
       " \"that'll\",\n",
       " 'these',\n",
       " 'those',\n",
       " 'am',\n",
       " 'is',\n",
       " 'are',\n",
       " 'was',\n",
       " 'were',\n",
       " 'be',\n",
       " 'been',\n",
       " 'being',\n",
       " 'have',\n",
       " 'has',\n",
       " 'had',\n",
       " 'having',\n",
       " 'do',\n",
       " 'does',\n",
       " 'did',\n",
       " 'doing',\n",
       " 'a',\n",
       " 'an',\n",
       " 'the',\n",
       " 'and',\n",
       " 'but',\n",
       " 'if',\n",
       " 'or',\n",
       " 'because',\n",
       " 'as',\n",
       " 'until',\n",
       " 'while',\n",
       " 'of',\n",
       " 'at',\n",
       " 'by',\n",
       " 'for',\n",
       " 'with',\n",
       " 'about',\n",
       " 'against',\n",
       " 'between',\n",
       " 'into',\n",
       " 'through',\n",
       " 'during',\n",
       " 'before',\n",
       " 'after',\n",
       " 'above',\n",
       " 'below',\n",
       " 'to',\n",
       " 'from',\n",
       " 'up',\n",
       " 'down',\n",
       " 'in',\n",
       " 'out',\n",
       " 'on',\n",
       " 'off',\n",
       " 'over',\n",
       " 'under',\n",
       " 'again',\n",
       " 'further',\n",
       " 'then',\n",
       " 'once',\n",
       " 'here',\n",
       " 'there',\n",
       " 'when',\n",
       " 'where',\n",
       " 'why',\n",
       " 'how',\n",
       " 'all',\n",
       " 'any',\n",
       " 'both',\n",
       " 'each',\n",
       " 'few',\n",
       " 'more',\n",
       " 'most',\n",
       " 'other',\n",
       " 'some',\n",
       " 'such',\n",
       " 'no',\n",
       " 'nor',\n",
       " 'not',\n",
       " 'only',\n",
       " 'own',\n",
       " 'same',\n",
       " 'so',\n",
       " 'than',\n",
       " 'too',\n",
       " 'very',\n",
       " 's',\n",
       " 't',\n",
       " 'can',\n",
       " 'will',\n",
       " 'just',\n",
       " 'don',\n",
       " \"don't\",\n",
       " 'should',\n",
       " \"should've\",\n",
       " 'now',\n",
       " 'd',\n",
       " 'll',\n",
       " 'm',\n",
       " 'o',\n",
       " 're',\n",
       " 've',\n",
       " 'y',\n",
       " 'ain',\n",
       " 'aren',\n",
       " \"aren't\",\n",
       " 'couldn',\n",
       " \"couldn't\",\n",
       " 'didn',\n",
       " \"didn't\",\n",
       " 'doesn',\n",
       " \"doesn't\",\n",
       " 'hadn',\n",
       " \"hadn't\",\n",
       " 'hasn',\n",
       " \"hasn't\",\n",
       " 'haven',\n",
       " \"haven't\",\n",
       " 'isn',\n",
       " \"isn't\",\n",
       " 'ma',\n",
       " 'mightn',\n",
       " \"mightn't\",\n",
       " 'mustn',\n",
       " \"mustn't\",\n",
       " 'needn',\n",
       " \"needn't\",\n",
       " 'shan',\n",
       " \"shan't\",\n",
       " 'shouldn',\n",
       " \"shouldn't\",\n",
       " 'wasn',\n",
       " \"wasn't\",\n",
       " 'weren',\n",
       " \"weren't\",\n",
       " 'won',\n",
       " \"won't\",\n",
       " 'wouldn',\n",
       " \"wouldn't\"]"
      ]
     },
     "execution_count": 7,
     "metadata": {},
     "output_type": "execute_result"
    }
   ],
   "source": [
    "stopwords.words(\"english\")"
   ]
  },
  {
   "cell_type": "code",
   "execution_count": 8,
   "metadata": {},
   "outputs": [],
   "source": [
    "cleanAlice = []\n",
    "cleanMoby = []\n",
    "cleanRomeo = []\n",
    "\n",
    "for sentence in tokenAlice:\n",
    "    cleanAlice.append([i.lower() for i in sentence if i.lower() not in stopwords.words(\"english\")])\n",
    "    \n",
    "for sentence in tokenMoby:\n",
    "    cleanMoby.append([i.lower() for i in sentence if i.lower() not in stopwords.words(\"english\")])\n",
    "\n",
    "for sentence in tokenRomeo:\n",
    "    cleanRomeo.append([i.lower() for i in sentence if i.lower() not in stopwords.words(\"english\")])\n",
    "    "
   ]
  },
  {
   "cell_type": "code",
   "execution_count": 9,
   "metadata": {},
   "outputs": [
    {
     "data": {
      "text/plain": [
       "[['large', 'rabbit', 'hole', 'hedge'],\n",
       " ['another', 'moment', 'went', 'alice', '', 'never', 'considering'],\n",
       " ['world', 'get'],\n",
       " ['rabbit', 'hole', 'went', 'straight', 'like', 'tunnel', 'way', ''],\n",
       " ['dipped', 'suddenly', '', 'suddenly', 'alice', 'moment', 'think'],\n",
       " ['stopping', 'found', 'falling'],\n",
       " ['deep', 'well'],\n",
       " ['either', 'well', 'deep', '', 'fell', 'slowly', ''],\n",
       " ['plenty', 'time', 'went', 'look', 'wonder'],\n",
       " ['going', 'happen', 'next', '', 'first', '', 'tried', 'look', 'make']]"
      ]
     },
     "execution_count": 9,
     "metadata": {},
     "output_type": "execute_result"
    }
   ],
   "source": [
    "cleanAlice[55:65]"
   ]
  },
  {
   "cell_type": "markdown",
   "metadata": {},
   "source": [
    "## Lemmatization and Stemming\n",
    "\n",
    "Lemmatization and Stemming are both methods of removing prefixes and suffixes from words. Stemming is the most brute force and removes the prefix/suffix while Lemmatization replaces the word with the root word."
   ]
  },
  {
   "cell_type": "code",
   "execution_count": 10,
   "metadata": {},
   "outputs": [
    {
     "name": "stdout",
     "output_type": "stream",
     "text": [
      "Stemming:\n",
      "studies: studi\n",
      "\n",
      "Lemmatization\n",
      "studies: study\n"
     ]
    }
   ],
   "source": [
    "lemmatizer = WordNetLemmatizer()\n",
    "\n",
    "print(\"Stemming:\")\n",
    "print(\"studies:\", PorterStemmer().stem(\"studies\") + \"\\n\")\n",
    "print(\"Lemmatization\")\n",
    "print(\"studies:\", lemmatizer.lemmatize(\"studies\"))"
   ]
  },
  {
   "cell_type": "code",
   "execution_count": 11,
   "metadata": {},
   "outputs": [],
   "source": [
    "lemmaAlice = []\n",
    "lemmaMoby = []\n",
    "lemmaRomeo = []\n",
    "\n",
    "for sentence in cleanAlice:\n",
    "    lemmaAlice.append([lemmatizer.lemmatize(i) for i in sentence])\n",
    "    \n",
    "for sentence in cleanMoby:\n",
    "    lemmaMoby.append([lemmatizer.lemmatize(i) for i in sentence])\n",
    "\n",
    "for sentence in cleanRomeo:\n",
    "    lemmaRomeo.append([lemmatizer.lemmatize(i) for i in sentence])\n",
    "    "
   ]
  },
  {
   "cell_type": "markdown",
   "metadata": {},
   "source": [
    "# Analysis"
   ]
  },
  {
   "cell_type": "markdown",
   "metadata": {},
   "source": [
    "## Term Frequency"
   ]
  },
  {
   "cell_type": "code",
   "execution_count": 12,
   "metadata": {},
   "outputs": [],
   "source": [
    "def getWordCount(words):\n",
    "    word_count = {}\n",
    "    for word in words:\n",
    "        if word not in word_count:\n",
    "            word_count[word] = 1\n",
    "        elif word in word_count:\n",
    "            word_count[word] += 1\n",
    "    word_count.pop('')\n",
    "    return sorted(word_count.items(), key=lambda x: x[1], reverse=True)"
   ]
  },
  {
   "cell_type": "code",
   "execution_count": 13,
   "metadata": {},
   "outputs": [],
   "source": [
    "tfAlice = getWordCount(np.concatenate(lemmaAlice))\n",
    "tfMoby = getWordCount(np.concatenate(lemmaMoby))\n",
    "tfRomeo = getWordCount(np.concatenate(lemmaRomeo))"
   ]
  },
  {
   "cell_type": "code",
   "execution_count": 14,
   "metadata": {},
   "outputs": [
    {
     "data": {
      "text/plain": [
       "[('said', 460),\n",
       " ('alice', 402),\n",
       " ('little', 127),\n",
       " ('one', 104),\n",
       " ('gutenberg', 98),\n",
       " ('know', 90),\n",
       " ('project', 88),\n",
       " ('like', 86),\n",
       " ('work', 86),\n",
       " ('went', 83)]"
      ]
     },
     "execution_count": 14,
     "metadata": {},
     "output_type": "execute_result"
    }
   ],
   "source": [
    "tfAlice[0:10]"
   ]
  },
  {
   "cell_type": "code",
   "execution_count": 15,
   "metadata": {},
   "outputs": [
    {
     "data": {
      "text/plain": [
       "[('whale', 1500),\n",
       " ('one', 943),\n",
       " ('like', 650),\n",
       " ('ship', 607),\n",
       " ('upon', 568),\n",
       " ('sea', 542),\n",
       " ('man', 527),\n",
       " ('ahab', 513),\n",
       " ('boat', 481),\n",
       " ('ye', 472)]"
      ]
     },
     "execution_count": 15,
     "metadata": {},
     "output_type": "execute_result"
    }
   ],
   "source": [
    "tfMoby[0:10]"
   ]
  },
  {
   "cell_type": "code",
   "execution_count": 16,
   "metadata": {},
   "outputs": [
    {
     "data": {
      "text/plain": [
       "[('romeo', 320),\n",
       " ('thou', 278),\n",
       " ('juliet', 193),\n",
       " ('thy', 170),\n",
       " ('capulet', 163),\n",
       " ('love', 154),\n",
       " ('nurse', 148),\n",
       " ('thee', 138),\n",
       " ('come', 123),\n",
       " ('lady', 122)]"
      ]
     },
     "execution_count": 16,
     "metadata": {},
     "output_type": "execute_result"
    }
   ],
   "source": [
    "tfRomeo[0:10]"
   ]
  },
  {
   "cell_type": "markdown",
   "metadata": {},
   "source": [
    "## Part of Speech Tagging\n",
    "\n",
    "Look up all part of speech tags in NLTK: https://www.guru99.com/pos-tagging-chunking-nltk.html"
   ]
  },
  {
   "cell_type": "code",
   "execution_count": 17,
   "metadata": {},
   "outputs": [],
   "source": [
    "mobyTags = nltk.pos_tag([i[0] for i in tfMoby])"
   ]
  },
  {
   "cell_type": "code",
   "execution_count": 18,
   "metadata": {},
   "outputs": [
    {
     "data": {
      "text/plain": [
       "[('though', 'VB'),\n",
       " ('say', 'VB'),\n",
       " ('queequeg', 'VB'),\n",
       " ('round', 'VB'),\n",
       " ('go', 'VB'),\n",
       " ('good', 'VB'),\n",
       " ('god', 'VB'),\n",
       " ('know', 'VB'),\n",
       " ('take', 'VB'),\n",
       " ('let', 'VB')]"
      ]
     },
     "execution_count": 18,
     "metadata": {},
     "output_type": "execute_result"
    }
   ],
   "source": [
    "#sort by most used verb\n",
    "[i for i in mobyTags if i[-1] == \"VB\"][0:10]"
   ]
  },
  {
   "cell_type": "markdown",
   "metadata": {},
   "source": [
    "## Sentiment Analysis"
   ]
  },
  {
   "cell_type": "code",
   "execution_count": 19,
   "metadata": {},
   "outputs": [],
   "source": [
    "analyzer = SentimentIntensityAnalyzer()"
   ]
  },
  {
   "cell_type": "code",
   "execution_count": 20,
   "metadata": {},
   "outputs": [
    {
     "name": "stdout",
     "output_type": "stream",
     "text": [
      "kill:  {'neg': 1.0, 'neu': 0.0, 'pos': 0.0, 'compound': -0.6908}\n",
      "love:  {'neg': 0.0, 'neu': 0.0, 'pos': 1.0, 'compound': 0.6369}\n",
      "spoon:  {'neg': 0.0, 'neu': 1.0, 'pos': 0.0, 'compound': 0.0}\n"
     ]
    }
   ],
   "source": [
    "print(\"kill: \",analyzer.polarity_scores(\"kill\"))\n",
    "print(\"love: \",analyzer.polarity_scores(\"love\"))\n",
    "print(\"spoon: \",analyzer.polarity_scores(\"spoon\"))"
   ]
  },
  {
   "cell_type": "code",
   "execution_count": 21,
   "metadata": {},
   "outputs": [],
   "source": [
    "aliceSentiment = []\n",
    "mobySentiment = []\n",
    "romeoSentiment = []\n",
    "\n",
    "for i in lemmaAlice:\n",
    "     aliceSentiment.append(analyzer.polarity_scores(\" \".join(i))['compound'])\n",
    "        \n",
    "for i in lemmaMoby:\n",
    "    mobySentiment.append(analyzer.polarity_scores(\" \".join(i))['compound'])\n",
    "        \n",
    "for i in lemmaRomeo:\n",
    "    romeoSentiment.append(analyzer.polarity_scores(\" \".join(i))['compound'])\n",
    "        \n"
   ]
  },
  {
   "cell_type": "code",
   "execution_count": 22,
   "metadata": {},
   "outputs": [
    {
     "name": "stdout",
     "output_type": "stream",
     "text": [
      "Most Positve\n",
      "Doth grace for grace and love for love allow.\n",
      "\n",
      "Most Negative\n",
      "Alack the day, she’s dead, she’s dead, she’s dead!\n"
     ]
    }
   ],
   "source": [
    "print(\"Most Positve\")\n",
    "print(romeoData[romeoSentiment.index(max(romeoSentiment))] + \"\\n\")\n",
    "print(\"Most Negative\")\n",
    "print(romeoData[romeoSentiment.index(min(romeoSentiment))])"
   ]
  },
  {
   "cell_type": "markdown",
   "metadata": {},
   "source": [
    "# Modeling"
   ]
  },
  {
   "cell_type": "markdown",
   "metadata": {},
   "source": [
    "## Embeddings\n",
    "\n",
    "Embeddings allow us to translate words and sentences into numerical vectors for use. There are many embedding methods to use with the best capturing the contextual and semantic meaning of words\n",
    "\n",
    "https://medium.com/sfu-cspmp/nlp-word-embedding-techniques-for-text-analysis-ec4e91bb886f\n"
   ]
  },
  {
   "cell_type": "code",
   "execution_count": 23,
   "metadata": {},
   "outputs": [],
   "source": [
    "def joinString(data):\n",
    "    string = []\n",
    "    for i in data:\n",
    "        string.append(\" \".join(i))\n",
    "    return string"
   ]
  },
  {
   "cell_type": "code",
   "execution_count": 24,
   "metadata": {},
   "outputs": [],
   "source": [
    "#Simple embedding\n",
    "vectorizer = CountVectorizer()"
   ]
  },
  {
   "cell_type": "code",
   "execution_count": 47,
   "metadata": {},
   "outputs": [
    {
     "name": "stdout",
     "output_type": "stream",
     "text": [
      "['large', 'rabbit', 'hole', 'hedge']\n",
      "[[0 0 1 0]\n",
      " [0 0 0 1]\n",
      " [0 1 0 0]\n",
      " [1 0 0 0]]\n"
     ]
    }
   ],
   "source": [
    "vectorAlice = vectorizer.fit_transform(lemmaAlice[55])\n",
    "print(lemmaAlice[55])\n",
    "print(vectorAlice.toarray())"
   ]
  },
  {
   "cell_type": "code",
   "execution_count": 56,
   "metadata": {},
   "outputs": [
    {
     "name": "stderr",
     "output_type": "stream",
     "text": [
      "<__array_function__ internals>:5: VisibleDeprecationWarning: Creating an ndarray from ragged nested sequences (which is a list-or-tuple of lists-or-tuples-or ndarrays with different lengths or shapes) is deprecated. If you meant to do this, you must specify 'dtype=object' when creating the ndarray\n"
     ]
    }
   ],
   "source": [
    "vectorAlice = vectorizer.fit_transform(joinString(lemmaAlice))\n",
    "vectorMoby = vectorizer.fit_transform(joinString(lemmaMoby))\n",
    "vectorRomeo = vectorizer.fit_transform(joinString(lemmaRomeo))\n",
    "vectorAll = vectorizer.fit_transform(joinString(np.concatenate([lemmaAlice,lemmaMoby,lemmaRomeo])))"
   ]
  },
  {
   "cell_type": "code",
   "execution_count": 61,
   "metadata": {},
   "outputs": [],
   "source": [
    "index = np.zeros(len(vectorAll.toarray()))\n",
    "index[len(lemmaAlice):len(lemmaAlice) + len(lemmaMoby)] = 1\n",
    "index[len(lemmaAlice) + len(lemmaMoby):] = 2\n"
   ]
  },
  {
   "cell_type": "markdown",
   "metadata": {},
   "source": [
    "## Clustering"
   ]
  },
  {
   "cell_type": "code",
   "execution_count": 85,
   "metadata": {},
   "outputs": [],
   "source": [
    "pca = PCA(n_components=2)\n",
    "pcaVectors = pca.fit_transform(vectorAlice.todense())"
   ]
  },
  {
   "cell_type": "code",
   "execution_count": 86,
   "metadata": {},
   "outputs": [
    {
     "data": {
      "text/plain": [
       "<matplotlib.collections.PathCollection at 0x7fb905ff9670>"
      ]
     },
     "execution_count": 86,
     "metadata": {},
     "output_type": "execute_result"
    },
    {
     "data": {
      "image/png": "[encoded data removed]",
      "text/plain": [
       "<Figure size 576x576 with 1 Axes>"
      ]
     },
     "metadata": {
      "needs_background": "light"
     },
     "output_type": "display_data"
    }
   ],
   "source": [
    "plt.figure(figsize = (8,8))\n",
    "plt.scatter(pcaVectors[:,0],pcaVectors[:,1])\n"
   ]
  },
  {
   "cell_type": "code",
   "execution_count": 96,
   "metadata": {},
   "outputs": [],
   "source": [
    "kmeans = KMeans(n_clusters=4, random_state=0).fit(pcaVectors)"
   ]
  },
  {
   "cell_type": "code",
   "execution_count": 97,
   "metadata": {},
   "outputs": [
    {
     "data": {
      "text/plain": [
       "<matplotlib.collections.PathCollection at 0x7fb90aaca070>"
      ]
     },
     "execution_count": 97,
     "metadata": {},
     "output_type": "execute_result"
    },
    {
     "data": {
      "image/png": "[encoded data removed]",
      "text/plain": [
       "<Figure size 576x576 with 1 Axes>"
      ]
     },
     "metadata": {
      "needs_background": "light"
     },
     "output_type": "display_data"
    }
   ],
   "source": [
    "plt.figure(figsize = (8,8))\n",
    "plt.scatter(pcaVectors[:,0],pcaVectors[:,1], c = kmeans.labels_ )\n"
   ]
  },
  {
   "cell_type": "code",
   "execution_count": 99,
   "metadata": {},
   "outputs": [
    {
     "data": {
      "text/plain": [
       "array(['before,” said Alice,) and round the neck of the bottle was a paper',\n",
       "       '“What a curious feeling!” said Alice; “I must be shutting up like a',\n",
       "       'said Alice to herself, “in my going out altogether, like a candle. I',\n",
       "       '“Come, there’s no use in crying like that!” said Alice to herself,',\n",
       "       '“You ought to be ashamed of yourself,” said Alice, “a great girl like',\n",
       "       '“I’m sure those are not the right words,” said poor Alice, and her eyes',\n",
       "       '“That _was_ a narrow escape!” said Alice, a good deal frightened at the',\n",
       "       'railway,” she said to herself. (Alice had been to the seaside once in',\n",
       "       '“I wish I hadn’t cried so much!” said Alice, as she swam about, trying',\n",
       "       '“Well, perhaps not,” said Alice in a soothing tone: “don’t be angry',\n",
       "       '“I won’t indeed!” said Alice, in a great hurry to change the subject of',\n",
       "       'was quite pale (with passion, Alice thought), and it said in a low',\n",
       "       '“As wet as ever,” said Alice in a melancholy tone: “it doesn’t seem to',\n",
       "       '“What _is_ a Caucus-race?” said Alice; not that she wanted much to',\n",
       "       '“Why, _she_, of course,” said the Dodo, pointing to Alice with one',\n",
       "       '“Only a thimble,” said Alice sadly.',\n",
       "       '“You promised to tell me your history, you know,” said Alice, “and why',\n",
       "       '“Mine is a long and a sad tale!” said the Mouse, turning to Alice, and',\n",
       "       '“It _is_ a long tail, certainly,” said Alice, looking down with wonder',\n",
       "       '“You are not attending!” said the Mouse to Alice severely. “What are',\n",
       "       '“I beg your pardon,” said Alice very humbly: “you had got to the fifth',\n",
       "       '“A knot!” said Alice, always ready to make herself useful, and looking',\n",
       "       '“I wish I had our Dinah here, I know I do!” said Alice aloud,',\n",
       "       '“How queer it seems,” Alice said to herself, “to be going messages for',\n",
       "       '“Oh! So Bill’s got to come down the chimney, has he?” said Alice to',\n",
       "       '“We must burn the house down!” said the Rabbit’s voice; and Alice',\n",
       "       '“The first thing I’ve got to do,” said Alice to herself, as she',\n",
       "       'thing!” said Alice, in a coaxing tone, and she tried hard to whistle to',\n",
       "       '“And yet what a dear little puppy it was!” said Alice, as she leant',\n",
       "       '“I can’t explain _myself_, I’m afraid, sir,” said Alice, “because I’m',\n",
       "       '“Well, perhaps you haven’t found it so yet,” said Alice; “but when you',\n",
       "       '“Well, perhaps your feelings may be different,” said Alice; “all I know',\n",
       "       '“Is that all?” said Alice, swallowing down her anger as well as she',\n",
       "       '“I’m afraid I am, sir,” said Alice; “I can’t remember things as I',\n",
       "       '“Not _quite_ right, I’m afraid,” said Alice, timidly; “some of the',\n",
       "       'Alice said nothing: she had never been so much contradicted in her life',\n",
       "       'mind,” said Alice: “three inches is such a wretched height to be.”',\n",
       "       '“Come, my head’s free at last!” said Alice in a tone of delight, which',\n",
       "       '“What _can_ all that green stuff be?” said Alice. “And where _have_ my',\n",
       "       '“I’m _not_ a serpent!” said Alice indignantly. “Let me alone!”',\n",
       "       '“I haven’t the least idea what you’re talking about,” said Alice.',\n",
       "       '“I’m very sorry you’ve been annoyed,” said Alice, who was beginning to',\n",
       "       '“But I’m _not_ a serpent, I tell you!” said Alice. “I’m a—I’m a—”',\n",
       "       '“I—I’m a little girl,” said Alice, rather doubtfully, as she remembered',\n",
       "       '“I _have_ tasted eggs, certainly,” said Alice, who was a very truthful',\n",
       "       '“It matters a good deal to _me_,” said Alice hastily; “but I’m not',\n",
       "       '“Please, then,” said Alice, “how am I to get in?”',\n",
       "       '“But what am _I_ to do?” said Alice.',\n",
       "       '“Oh, there’s no use in talking to him,” said Alice desperately: “he’s',\n",
       "       '“There’s certainly too much pepper in that soup!” Alice said to',\n",
       "       '“Please would you tell me,” said Alice, a little timidly, for she was',\n",
       "       'She said the last word with such sudden violence that Alice quite',\n",
       "       '“I don’t know of any that do,” Alice said very politely, feeling quite',\n",
       "       '“Which would _not_ be an advantage,” said Alice, who felt very glad to',\n",
       "       '“Here! you may nurse it a bit, if you like!” the Duchess said to Alice,',\n",
       "       '“Don’t grunt,” said Alice; “that’s not at all a proper way of',\n",
       "       'said Alice, seriously, “I’ll have nothing more to do with you. Mind',\n",
       "       '“I don’t much care where—” said Alice.',\n",
       "       '“How do you know I’m mad?” said Alice.',\n",
       "       '“I suppose so,” said Alice.',\n",
       "       '“_I_ call it purring, not growling,” said Alice.',\n",
       "       '“I should like it very much,” said Alice, “but I haven’t been invited',\n",
       "       '“It turned into a pig,” Alice quietly said, just as if it had come back',\n",
       "       '“I said pig,” replied Alice; “and I wish you wouldn’t keep appearing',\n",
       "       'Alice coming. “There’s _plenty_ of room!” said Alice indignantly, and',\n",
       "       '“Then it wasn’t very civil of you to offer it,” said Alice angrily.',\n",
       "       '“I didn’t know it was _your_ table,” said Alice; “it’s laid for a great',\n",
       "       '“You should learn not to make personal remarks,” Alice said with some',\n",
       "       '“Exactly so,” said Alice.',\n",
       "       'is it?” he said, turning to Alice: he had taken his watch out of his',\n",
       "       'Alice considered a little, and then said “The fourth.”',\n",
       "       '“Have you guessed the riddle yet?” the Hatter said, turning to Alice',\n",
       "       '“I don’t know what you mean,” said Alice.',\n",
       "       '“That would be grand, certainly,” said Alice thoughtfully: “but then—I',\n",
       "       '“I’ve heard something like it,” said Alice.',\n",
       "       '“Then you keep moving round, I suppose?” said Alice.',\n",
       "       '“I’m afraid I don’t know one,” said Alice, rather alarmed at the',\n",
       "       '“What did they live on?” said Alice, who always took a great interest',\n",
       "       '“Take some more tea,” the March Hare said to Alice, very earnestly.',\n",
       "       '“Nobody asked _your_ opinion,” said Alice.',\n",
       "       '“No, please go on!” Alice said very humbly; “I won’t interrupt again. I',\n",
       "       '“What did they draw?” said Alice, quite forgetting her promise.',\n",
       "       '“But they were _in_ the well,” Alice said to the Dormouse, not choosing',\n",
       "       '“Why with an M?” said Alice.',\n",
       "       '“Really, now you ask me,” said Alice, very much confused, “I don’t',\n",
       "       '“At any rate I’ll never go _there_ again!” said Alice as she picked her',\n",
       "       '“Would you tell me,” said Alice, a little timidly, “why you are',\n",
       "       '“My name is Alice, so please your Majesty,” said Alice very politely;',\n",
       "       '“How should _I_ know?” said Alice, surprised at her own courage. “It’s',\n",
       "       '“Nonsense!” said Alice, very loudly and decidedly, and the Queen was',\n",
       "       '“You shan’t be beheaded!” said Alice, and she put them into a large',\n",
       "       '“Very,” said Alice: “—where’s the Duchess?”',\n",
       "       '“What for?” said Alice.',\n",
       "       '“No, I didn’t,” said Alice: “I don’t think it’s at all a pity. I said',\n",
       "       '“Not at all,” said Alice: “she’s so extremely—” Just then she noticed',\n",
       "       '“Who _are_ you talking to?” said the King, going up to Alice, and',\n",
       "       '“It’s a friend of mine—a Cheshire Cat,” said Alice: “allow me to',\n",
       "       '“A cat may look at a king,” said Alice. “I’ve read that in some book,',\n",
       "       'said the Duchess, as she tucked her arm affectionately into Alice’s,',\n",
       "       '“Somebody said,” Alice whispered, “that it’s done by everybody minding',\n",
       "       '“It’s a mineral, I _think_,” said Alice.',\n",
       "       'everything that Alice said; “there’s a large mustard-mine near here.',\n",
       "       '“I think I should understand that better,” Alice said very politely,',\n",
       "       '“I’ve a right to think,” said Alice sharply, for she was beginning to',\n",
       "       '“Let’s go on with the game,” the Queen said to Alice; and Alice was too',\n",
       "       'Then the Queen left off, quite out of breath, and said to Alice, “Have',\n",
       "       '“No,” said Alice. “I don’t even know what a Mock Turtle is.”',\n",
       "       '“I never saw one, or heard of one,” said Alice.',\n",
       "       '“What _is_ the fun?” said Alice.',\n",
       "       '“I never said I didn’t!” interrupted Alice.',\n",
       "       '“_I’ve_ been to a day-school, too,” said Alice; “you needn’t be so',\n",
       "       '“Yes,” said Alice, “we learned French and music.”',\n",
       "       '“Certainly not!” said Alice indignantly.',\n",
       "       '“You couldn’t have wanted it much,” said Alice; “living at the bottom',\n",
       "       '“Yes,” said Alice doubtfully: “it means—to—make—anything—prettier.”',\n",
       "       '“What was _that_ like?” said Alice.',\n",
       "       '“And how many hours a day did you do lessons?” said Alice, in a hurry',\n",
       "       '“No, indeed,” said Alice. “What sort of a dance is it?”',\n",
       "       '“It must be a very pretty dance,” said Alice timidly.',\n",
       "       '“Very much indeed,” said Alice.',\n",
       "       '“Thank you, it’s a very interesting dance to watch,” said Alice,',\n",
       "       '“Yes,” said Alice, “I’ve often seen them at dinn—” she checked herself',\n",
       "       '“Thank you,” said Alice, “it’s very interesting. I never knew so much',\n",
       "       '“I never thought about it,” said Alice. “Why?”',\n",
       "       '“If I’d been the whiting,” said Alice, whose thoughts were still',\n",
       "       '“Wouldn’t it really?” said Alice in a tone of great surprise.',\n",
       "       '“Don’t you mean ‘purpose’?” said Alice.',\n",
       "       'Alice said nothing; she had sat down with her face in her hands,',\n",
       "       '“It’s the first position in dancing.” Alice said; but was dreadfully',\n",
       "       '“Yes, I think you’d better leave off,” said the Gryphon: and Alice was',\n",
       "       '“I can’t help it,” said Alice very meekly: “I’m growing.”',\n",
       "       '“Don’t talk nonsense,” said Alice more boldly: “you know you’re growing',\n",
       "       'with great emphasis, looking hard at Alice as he said so.',\n",
       "       '“What do you know about this business?” the King said to Alice.',\n",
       "       '“Nothing,” said Alice.', '“Nothing whatever,” said Alice.',\n",
       "       '“_I’m_ not a mile high,” said Alice.',\n",
       "       '“Well, I shan’t go, at any rate,” said Alice: “besides, that’s not a',\n",
       "       '“Then it ought to be Number One,” said Alice.',\n",
       "       '“It proves nothing of the sort!” said Alice. “Why, you don’t even know',\n",
       "       '“If any one of them can explain it,” said Alice, (she had grown so',\n",
       "       '“But, it goes on ‘_they all returned from him to you_,’” said Alice.',\n",
       "       '“Stuff and nonsense!” said Alice loudly. “The idea of having the',\n",
       "       '“I won’t!” said Alice.',\n",
       "       '“Who cares for you?” said Alice, (she had grown to her full size by',\n",
       "       '“Wake up, Alice dear!” said her sister; “Why, what a long sleep you’ve',\n",
       "       '“Oh, I’ve had such a curious dream!” said Alice, and she told her'],\n",
       "      dtype='<U82')"
      ]
     },
     "execution_count": 99,
     "metadata": {},
     "output_type": "execute_result"
    }
   ],
   "source": [
    "aliceData[kmeans.labels_ == 0]"
   ]
  },
  {
   "cell_type": "code",
   "execution_count": null,
   "metadata": {},
   "outputs": [],
   "source": []
  }
 ],
 "metadata": {
  "kernelspec": {
   "display_name": "Python 3 (ipykernel)",
   "language": "python",
   "name": "python3"
  },
  "language_info": {
   "codemirror_mode": {
    "name": "ipython",
    "version": 3
   },
   "file_extension": ".py",
   "mimetype": "text/x-python",
   "name": "python",
   "nbconvert_exporter": "python",
   "pygments_lexer": "ipython3",
   "version": "3.9.7"
  }
 },
 "nbformat": 4,
 "nbformat_minor": 2
}
